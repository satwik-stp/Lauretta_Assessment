{
 "cells": [
  {
   "cell_type": "code",
   "execution_count": 32,
   "metadata": {
    "tags": []
   },
   "outputs": [],
   "source": [
    "import os\n",
    "main_path=\"ucf_action\"\n",
    "label_names=os.listdir(main_path)"
   ]
  },
  {
   "cell_type": "code",
   "execution_count": null,
   "metadata": {},
   "outputs": [],
   "source": [
    "\n",
    "# extarct the video file path and store it in dictionary with key being the label name\n",
    "final_video_paths={}\n",
    "\n",
    "for label in label_names:\n",
    "    final_video_paths[label]=[]\n",
    "    label_path=main_path+\"/\"+label\n",
    "    curr_paths=os.listdir(label_path)\n",
    "    print(label_path)\n",
    "    for path in curr_paths:\n",
    "        files_path=label_path+\"/\"+path\n",
    "        print(files_path)\n",
    "        all_files_path=os.listdir(files_path)\n",
    "        for video_file in all_files_path:\n",
    "            video=files_path+\"/\"+video_file\n",
    "            if video.endswith(\".avi\"):\n",
    "                print(video)\n",
    "                final_video_paths[label].append(video)\n"
   ]
  },
  {
   "cell_type": "code",
   "execution_count": 34,
   "metadata": {},
   "outputs": [],
   "source": [
    "# train-test split the dataset (80-20 was used here)\n",
    "final_video_paths\n",
    "train_video_paths={}\n",
    "test_video_paths={}\n",
    "\n",
    "for label in label_names:\n",
    "    split=int(len(final_video_paths[label])*0.80)\n",
    "    train_video_paths[label_names.index(label)]=final_video_paths[label][:split]\n",
    "    test_video_paths[label_names.index(label)]=final_video_paths[label][split:]\n",
    "    \n",
    "\n"
   ]
  },
  {
   "cell_type": "code",
   "execution_count": 61,
   "metadata": {},
   "outputs": [],
   "source": [
    "# store the path and label in kinectics dataset format\n",
    "txt_train_paths=[]\n",
    "for key, values in train_video_paths.items():\n",
    "    #print(key)\n",
    "    for value in values:\n",
    "        value=value[:-3]+\"mp4\"\n",
    "        value=value.split(\"/\")[-1]\n",
    "        txt_train_paths.append(value+\" \"+str(key))\n",
    "        \n",
    "\n",
    "txt_test_paths=[]\n",
    "for key, values in test_video_paths.items():\n",
    "    #print(key)\n",
    "    for value in values:\n",
    "        value=value[:-3]+\"mp4\"\n",
    "        value=value.split(\"/\")[-1]\n",
    "        txt_test_paths.append(value+\" \"+str(key))\n"
   ]
  },
  {
   "cell_type": "code",
   "execution_count": 62,
   "metadata": {},
   "outputs": [],
   "source": [
    "# store the path label of train and test as txt file which is also kinectics dataset format\n",
    "textfile = open(\"train.txt\", \"w\")\n",
    "for element in txt_train_paths:\n",
    "    textfile.write(element + \"\\n\")\n",
    "textfile.close()\n",
    "\n",
    "textfile = open(\"test.txt\", \"w\")\n",
    "for element in txt_test_paths:\n",
    "    textfile.write(element + \"\\n\")\n",
    "textfile.close()"
   ]
  },
  {
   "cell_type": "code",
   "execution_count": null,
   "metadata": {},
   "outputs": [],
   "source": [
    "# Converting .avi video files to .mp4 and saving it\n",
    "\n",
    "import os\n",
    "\n",
    "def convert_avi_to_mp4(avi_file_path, output_name):\n",
    "    os.popen(\"ffmpeg -i '{input}' -ac 2 -b:v 2000k -c:a aac -c:v libx264 -b:a 160k -vprofile high -bf 0 -strict experimental -f mp4 '{output}.mp4'\".format(input = avi_file_path, output = output_name))\n",
    "    return True\n",
    "\n",
    "for label in label_names:\n",
    "    video_files=final_video_paths[label]\n",
    "    print(label)\n",
    "    for video in video_files:\n",
    "        save_video_path=video[:-4]\n",
    "        print(save_video_path)\n",
    "        convert_avi_to_mp4(video,save_video_path)\n"
   ]
  },
  {
   "cell_type": "code",
   "execution_count": null,
   "metadata": {},
   "outputs": [],
   "source": []
  }
 ],
 "metadata": {
  "kernelspec": {
   "display_name": "Python 3 (ipykernel)",
   "language": "python",
   "name": "python3"
  },
  "language_info": {
   "codemirror_mode": {
    "name": "ipython",
    "version": 3
   },
   "file_extension": ".py",
   "mimetype": "text/x-python",
   "name": "python",
   "nbconvert_exporter": "python",
   "pygments_lexer": "ipython3",
   "version": "3.9.13"
  },
  "vscode": {
   "interpreter": {
    "hash": "c5d5726d24d51b3ebc97e3fe03499608ba1b9393ba40ed61b5c747f396aefd29"
   }
  }
 },
 "nbformat": 4,
 "nbformat_minor": 4
}
